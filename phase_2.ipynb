{
 "cells": [
  {
   "cell_type": "code",
   "execution_count": 1,
   "id": "2efb9f14-8178-4d55-b8ba-6e30cc6783e5",
   "metadata": {},
   "outputs": [
    {
     "name": "stdout",
     "output_type": "stream",
     "text": [
      "Error: Could not read frame from video.\n"
     ]
    }
   ],
   "source": [
    "import cv2\n",
    "\n",
    "cap_video = cv2.VideoCapture(0)  # Use 0 for webcam or provide video path\n",
    "\n",
    "if not cap_video.isOpened():\n",
    "    print(\"Error: Could not open video source.\")\n",
    "    exit()\n",
    "\n",
    "face_capture = cv2.CascadeClassifier(cv2.data.haarcascades + \"haarcascade_frontalface_default.xml\")\n",
    "\n",
    "while True:\n",
    "    ret, video_full = cap_video.read()\n",
    "\n",
    "    if not ret or video_full is None:\n",
    "        print(\"Error: Could not read frame from video.\")\n",
    "        break\n",
    "\n",
    "    # Convert BGR to Grayscale (Correct Method)\n",
    "    clr = cv2.cvtColor(video_full, cv2.COLOR_BGR2GRAY)\n",
    "\n",
    "    face = face_capture.detectMultiScale(\n",
    "        clr,\n",
    "        scaleFactor=1.1,\n",
    "        minNeighbors=5,\n",
    "        minSize=(30, 30),\n",
    "        flags=cv2.CASCADE_SCALE_IMAGE\n",
    "    )\n",
    "\n",
    "    for (x, y, w, h) in face:\n",
    "        cv2.rectangle(video_full, (x, y), (x + w, y + h), (0, 255, 0), 2)\n",
    "\n",
    "    cv2.imshow(\"Face Detection\", video_full)\n",
    "\n",
    "    if cv2.waitKey(1) & 0xFF == ord('q'):\n",
    "        break\n",
    "\n",
    "cap_video.release()\n",
    "cv2.destroyAllWindows()\n"
   ]
  },
  {
   "cell_type": "code",
   "execution_count": null,
   "id": "077a2e3f-9fc2-4750-9640-0775d710cd49",
   "metadata": {},
   "outputs": [],
   "source": []
  }
 ],
 "metadata": {
  "kernelspec": {
   "display_name": "Python 3 (ipykernel)",
   "language": "python",
   "name": "python3"
  },
  "language_info": {
   "codemirror_mode": {
    "name": "ipython",
    "version": 3
   },
   "file_extension": ".py",
   "mimetype": "text/x-python",
   "name": "python",
   "nbconvert_exporter": "python",
   "pygments_lexer": "ipython3",
   "version": "3.13.2"
  }
 },
 "nbformat": 4,
 "nbformat_minor": 5
}
